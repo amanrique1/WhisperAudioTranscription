{
  "nbformat": 4,
  "nbformat_minor": 0,
  "metadata": {
    "colab": {
      "provenance": []
    },
    "kernelspec": {
      "name": "python3",
      "display_name": "Python 3"
    },
    "language_info": {
      "name": "python"
    }
  },
  "cells": [
    {
      "cell_type": "code",
      "execution_count": 1,
      "metadata": {
        "colab": {
          "base_uri": "https://localhost:8080/"
        },
        "id": "YI8E5zJ2SvYV",
        "outputId": "2613aff5-6844-4c27-aac6-93f8f12579fb"
      },
      "outputs": [
        {
          "output_type": "stream",
          "name": "stdout",
          "text": [
            "Looking in indexes: https://pypi.org/simple, https://us-python.pkg.dev/colab-wheels/public/simple/\n",
            "Requirement already satisfied: openai-whisper in /usr/local/lib/python3.8/dist-packages (20230124)\n",
            "Requirement already satisfied: transformers>=4.19.0 in /usr/local/lib/python3.8/dist-packages (from openai-whisper) (4.26.0)\n",
            "Requirement already satisfied: ffmpeg-python==0.2.0 in /usr/local/lib/python3.8/dist-packages (from openai-whisper) (0.2.0)\n",
            "Requirement already satisfied: tqdm in /usr/local/lib/python3.8/dist-packages (from openai-whisper) (4.64.1)\n",
            "Requirement already satisfied: more-itertools in /usr/local/lib/python3.8/dist-packages (from openai-whisper) (9.0.0)\n",
            "Requirement already satisfied: torch in /usr/local/lib/python3.8/dist-packages (from openai-whisper) (1.13.1+cu116)\n",
            "Requirement already satisfied: numpy in /usr/local/lib/python3.8/dist-packages (from openai-whisper) (1.21.6)\n",
            "Requirement already satisfied: future in /usr/local/lib/python3.8/dist-packages (from ffmpeg-python==0.2.0->openai-whisper) (0.16.0)\n",
            "Requirement already satisfied: requests in /usr/local/lib/python3.8/dist-packages (from transformers>=4.19.0->openai-whisper) (2.25.1)\n",
            "Requirement already satisfied: regex!=2019.12.17 in /usr/local/lib/python3.8/dist-packages (from transformers>=4.19.0->openai-whisper) (2022.6.2)\n",
            "Requirement already satisfied: tokenizers!=0.11.3,<0.14,>=0.11.1 in /usr/local/lib/python3.8/dist-packages (from transformers>=4.19.0->openai-whisper) (0.13.2)\n",
            "Requirement already satisfied: filelock in /usr/local/lib/python3.8/dist-packages (from transformers>=4.19.0->openai-whisper) (3.9.0)\n",
            "Requirement already satisfied: pyyaml>=5.1 in /usr/local/lib/python3.8/dist-packages (from transformers>=4.19.0->openai-whisper) (6.0)\n",
            "Requirement already satisfied: packaging>=20.0 in /usr/local/lib/python3.8/dist-packages (from transformers>=4.19.0->openai-whisper) (21.3)\n",
            "Requirement already satisfied: huggingface-hub<1.0,>=0.11.0 in /usr/local/lib/python3.8/dist-packages (from transformers>=4.19.0->openai-whisper) (0.12.0)\n",
            "Requirement already satisfied: typing-extensions in /usr/local/lib/python3.8/dist-packages (from torch->openai-whisper) (4.4.0)\n",
            "Requirement already satisfied: pyparsing!=3.0.5,>=2.0.2 in /usr/local/lib/python3.8/dist-packages (from packaging>=20.0->transformers>=4.19.0->openai-whisper) (3.0.9)\n",
            "Requirement already satisfied: idna<3,>=2.5 in /usr/local/lib/python3.8/dist-packages (from requests->transformers>=4.19.0->openai-whisper) (2.10)\n",
            "Requirement already satisfied: certifi>=2017.4.17 in /usr/local/lib/python3.8/dist-packages (from requests->transformers>=4.19.0->openai-whisper) (2022.12.7)\n",
            "Requirement already satisfied: chardet<5,>=3.0.2 in /usr/local/lib/python3.8/dist-packages (from requests->transformers>=4.19.0->openai-whisper) (4.0.0)\n",
            "Requirement already satisfied: urllib3<1.27,>=1.21.1 in /usr/local/lib/python3.8/dist-packages (from requests->transformers>=4.19.0->openai-whisper) (1.24.3)\n"
          ]
        }
      ],
      "source": [
        "!pip install -U openai-whisper"
      ]
    },
    {
      "cell_type": "code",
      "source": [
        "%%shell\n",
        "sudo apt update && sudo apt install ffmpeg"
      ],
      "metadata": {
        "colab": {
          "base_uri": "https://localhost:8080/"
        },
        "id": "GGcAKVhhTCT8",
        "outputId": "e86e9a70-8b5b-423f-f72b-ea22e25c10f0"
      },
      "execution_count": 2,
      "outputs": [
        {
          "output_type": "stream",
          "name": "stdout",
          "text": [
            "\u001b[33m\r0% [Working]\u001b[0m\r            \rHit:1 https://cloud.r-project.org/bin/linux/ubuntu focal-cran40/ InRelease\n",
            "\u001b[33m\r0% [Connecting to archive.ubuntu.com (185.125.190.36)] [Waiting for headers] [W\u001b[0m\r                                                                               \rIgn:2 https://developer.download.nvidia.com/compute/machine-learning/repos/ubuntu2004/x86_64  InRelease\n",
            "\u001b[33m\r0% [Waiting for headers] [Waiting for headers] [Waiting for headers] [Waiting f\u001b[0m\r                                                                               \rGet:3 http://security.ubuntu.com/ubuntu focal-security InRelease [114 kB]\n",
            "\u001b[33m\r0% [Waiting for headers] [3 InRelease 14.2 kB/114 kB 12%] [Waiting for headers]\u001b[0m\r                                                                               \rHit:4 https://developer.download.nvidia.com/compute/cuda/repos/ubuntu2004/x86_64  InRelease\n",
            "Hit:5 https://developer.download.nvidia.com/compute/machine-learning/repos/ubuntu2004/x86_64  Release\n",
            "Hit:6 http://ppa.launchpad.net/c2d4u.team/c2d4u4.0+/ubuntu focal InRelease\n",
            "Hit:7 http://archive.ubuntu.com/ubuntu focal InRelease\n",
            "Get:8 http://archive.ubuntu.com/ubuntu focal-updates InRelease [114 kB]\n",
            "Hit:9 http://ppa.launchpad.net/cran/libgit2/ubuntu focal InRelease\n",
            "Hit:11 http://ppa.launchpad.net/deadsnakes/ppa/ubuntu focal InRelease\n",
            "Get:12 http://archive.ubuntu.com/ubuntu focal-backports InRelease [108 kB]\n",
            "Hit:13 http://ppa.launchpad.net/graphics-drivers/ppa/ubuntu focal InRelease\n",
            "Fetched 336 kB in 2s (202 kB/s)\n",
            "Reading package lists... Done\n",
            "Building dependency tree       \n",
            "Reading state information... Done\n",
            "27 packages can be upgraded. Run 'apt list --upgradable' to see them.\n",
            "Reading package lists... Done\n",
            "Building dependency tree       \n",
            "Reading state information... Done\n",
            "ffmpeg is already the newest version (7:4.2.7-0ubuntu0.1).\n",
            "0 upgraded, 0 newly installed, 0 to remove and 27 not upgraded.\n"
          ]
        },
        {
          "output_type": "execute_result",
          "data": {
            "text/plain": []
          },
          "metadata": {},
          "execution_count": 2
        }
      ]
    },
    {
      "cell_type": "markdown",
      "source": [
        "# Download Youtube Audio"
      ],
      "metadata": {
        "id": "H56PGnRoeMBI"
      }
    },
    {
      "cell_type": "code",
      "source": [
        "!pip install pytube"
      ],
      "metadata": {
        "colab": {
          "base_uri": "https://localhost:8080/"
        },
        "id": "6aMzDeB0eSLn",
        "outputId": "aed2ffa4-d376-440b-ea72-d49a0d1a1446"
      },
      "execution_count": 10,
      "outputs": [
        {
          "output_type": "stream",
          "name": "stdout",
          "text": [
            "Looking in indexes: https://pypi.org/simple, https://us-python.pkg.dev/colab-wheels/public/simple/\n",
            "Collecting pytube\n",
            "  Downloading pytube-12.1.2-py3-none-any.whl (57 kB)\n",
            "\u001b[2K     \u001b[90m━━━━━━━━━━━━━━━━━━━━━━━━━━━━━━━━━━━━━━━━\u001b[0m \u001b[32m57.0/57.0 KB\u001b[0m \u001b[31m2.5 MB/s\u001b[0m eta \u001b[36m0:00:00\u001b[0m\n",
            "\u001b[?25hInstalling collected packages: pytube\n",
            "Successfully installed pytube-12.1.2\n"
          ]
        }
      ]
    },
    {
      "cell_type": "code",
      "source": [
        "import pytube"
      ],
      "metadata": {
        "id": "eKkjq9jvePa6"
      },
      "execution_count": 11,
      "outputs": []
    },
    {
      "cell_type": "code",
      "source": [
        "video = 'https://www.youtube.com/watch?v=zwRTtH2v8V8'\n",
        "data = pytube.YouTube(video)\n",
        "# Convert to audio file\n",
        "audio = data.streams.get_audio_only()\n",
        "route = audio.download()\n",
        "route"
      ],
      "metadata": {
        "colab": {
          "base_uri": "https://localhost:8080/",
          "height": 36
        },
        "id": "4KvnDFOseUkX",
        "outputId": "18db1d4a-ff31-49b4-92b4-e84a6944018a"
      },
      "execution_count": 13,
      "outputs": [
        {
          "output_type": "execute_result",
          "data": {
            "text/plain": [
              "'/content/Leo Messi se conmueve por palabras de la periodista Sofía Martínez\\U0001f979❤️🇦🇷🏆 shorts.mp4'"
            ],
            "application/vnd.google.colaboratory.intrinsic+json": {
              "type": "string"
            }
          },
          "metadata": {},
          "execution_count": 13
        }
      ]
    },
    {
      "cell_type": "markdown",
      "source": [
        "# Run model"
      ],
      "metadata": {
        "id": "UQ7CF9iVTjQa"
      }
    },
    {
      "cell_type": "code",
      "source": [
        "import whisper\n",
        "import pandas as pd"
      ],
      "metadata": {
        "id": "5TdxrsJsTTo3"
      },
      "execution_count": 3,
      "outputs": []
    },
    {
      "cell_type": "code",
      "source": [
        "# tiny - base - small - medium - large\n",
        "model = whisper.load_model(\"tiny\")\n",
        "result = model.transcribe(route)\n",
        "print(result)"
      ],
      "metadata": {
        "colab": {
          "base_uri": "https://localhost:8080/"
        },
        "id": "1fs8ZEO1Txsc",
        "outputId": "7b1bcd58-a87f-4692-cb84-f21dd8781baa"
      },
      "execution_count": 4,
      "outputs": [
        {
          "output_type": "stream",
          "name": "stderr",
          "text": [
            "100%|█████████████████████████████████████| 72.1M/72.1M [00:00<00:00, 91.1MiB/s]\n",
            "/usr/local/lib/python3.8/dist-packages/whisper/transcribe.py:78: UserWarning: FP16 is not supported on CPU; using FP32 instead\n",
            "  warnings.warn(\"FP16 is not supported on CPU; using FP32 instead\")\n"
          ]
        },
        {
          "output_type": "stream",
          "name": "stdout",
          "text": [
            "{'text': ' solamente que eres earse bien bien, una fina del mundo y si bien toque lesAcupa, nos qué más a 여자 es resultado a luego no te vas a occar nadie, a través EXNT y eso no te vas a occar nady, gentlemen donuts, affects tan grande que la gente evira tanta gente, que ahora la jala de los yves en el corazón, porque creo que es más importante que una copa del mundo hizo ya los tienes, así que gracias, capitán. Bueno, muchas gracias, verdad, que los sentí, los sentí durante todo. Todo el tiempo, el cariño de la gente. Yo, jala, se no de, no va a pasar gentino, aprendí un poco eso. Ya no solo es el resultado, sino todo el camino recorrido, antes por ahí, y que todo lo lo va mucho por ganar el perder, y creo que la gente valora mucho y su mamás. Otra cosa, pero que no tenga duda, es que vamos a ir a jugar como lo venimos siendo.', 'segments': [{'id': 0, 'seek': 0, 'start': 0.0, 'end': 2.8000000000000003, 'text': ' solamente que eres earse bien bien, una fina del mundo', 'tokens': [27814, 631, 30065, 1273, 405, 3610, 3610, 11, 2002, 962, 64, 1103, 7968], 'temperature': 1.0, 'avg_logprob': -3.046999715169271, 'compression_ratio': 1.3588235294117648, 'no_speech_prob': 0.09367154538631439}, {'id': 1, 'seek': 0, 'start': 2.8000000000000003, 'end': 5.6000000000000005, 'text': ' y si bien toque lesAcupa,', 'tokens': [288, 1511, 3610, 281, 1077, 1512, 43705, 1010, 64, 11], 'temperature': 1.0, 'avg_logprob': -3.046999715169271, 'compression_ratio': 1.3588235294117648, 'no_speech_prob': 0.09367154538631439}, {'id': 2, 'seek': 0, 'start': 5.6000000000000005, 'end': 7.68, 'text': ' nos qué más a 여자 es resultado', 'tokens': [3269, 8057, 3573, 257, 41768, 785, 28047], 'temperature': 1.0, 'avg_logprob': -3.046999715169271, 'compression_ratio': 1.3588235294117648, 'no_speech_prob': 0.09367154538631439}, {'id': 3, 'seek': 0, 'start': 7.68, 'end': 23.18, 'text': ' a luego no te vas a occar nadie, a través EXNT', 'tokens': [257, 17222, 572, 535, 11481, 257, 2678, 289, 28060, 11, 257, 24463, 16385, 30817], 'temperature': 1.0, 'avg_logprob': -3.046999715169271, 'compression_ratio': 1.3588235294117648, 'no_speech_prob': 0.09367154538631439}, {'id': 4, 'seek': 0, 'start': 23.18, 'end': 25.72, 'text': ' y eso no te vas a occar nady, gentlemen', 'tokens': [288, 7287, 572, 535, 11481, 257, 2678, 289, 297, 880, 11, 11669], 'temperature': 1.0, 'avg_logprob': -3.046999715169271, 'compression_ratio': 1.3588235294117648, 'no_speech_prob': 0.09367154538631439}, {'id': 5, 'seek': 0, 'start': 25.72, 'end': 27.560000000000002, 'text': ' donuts, affects tan grande', 'tokens': [36826, 3182, 11807, 7603, 8883], 'temperature': 1.0, 'avg_logprob': -3.046999715169271, 'compression_ratio': 1.3588235294117648, 'no_speech_prob': 0.09367154538631439}, {'id': 6, 'seek': 2756, 'start': 27.56, 'end': 29.119999999999997, 'text': ' que la gente evira tanta gente,', 'tokens': [631, 635, 3788, 1073, 4271, 40864, 3788, 11], 'temperature': 0.0, 'avg_logprob': -0.6007120768229167, 'compression_ratio': 1.7484472049689441, 'no_speech_prob': 0.22471240162849426}, {'id': 7, 'seek': 2756, 'start': 29.2, 'end': 30.88, 'text': ' que ahora la jala de los yves en el corazón,', 'tokens': [631, 9923, 635, 361, 5159, 368, 1750, 288, 977, 465, 806, 34518, 11], 'temperature': 0.0, 'avg_logprob': -0.6007120768229167, 'compression_ratio': 1.7484472049689441, 'no_speech_prob': 0.22471240162849426}, {'id': 8, 'seek': 2756, 'start': 30.959999999999997, 'end': 32.28, 'text': ' porque creo que es más importante', 'tokens': [4021, 14336, 631, 785, 3573, 9416], 'temperature': 0.0, 'avg_logprob': -0.6007120768229167, 'compression_ratio': 1.7484472049689441, 'no_speech_prob': 0.22471240162849426}, {'id': 9, 'seek': 2756, 'start': 32.36, 'end': 34.2, 'text': ' que una copa del mundo hizo ya los tienes,', 'tokens': [631, 2002, 2971, 64, 1103, 7968, 28803, 2478, 1750, 20716, 11], 'temperature': 0.0, 'avg_logprob': -0.6007120768229167, 'compression_ratio': 1.7484472049689441, 'no_speech_prob': 0.22471240162849426}, {'id': 10, 'seek': 2756, 'start': 34.28, 'end': 35.36, 'text': ' así que gracias, capitán.', 'tokens': [8582, 631, 16611, 11, 33807, 7200, 13], 'temperature': 0.0, 'avg_logprob': -0.6007120768229167, 'compression_ratio': 1.7484472049689441, 'no_speech_prob': 0.22471240162849426}, {'id': 11, 'seek': 2756, 'start': 35.44, 'end': 39.32, 'text': ' Bueno, muchas gracias, verdad, que los sentí, los sentí durante todo.', 'tokens': [16046, 11, 16072, 16611, 11, 13692, 11, 631, 1750, 2279, 870, 11, 1750, 2279, 870, 14427, 5149, 13], 'temperature': 0.0, 'avg_logprob': -0.6007120768229167, 'compression_ratio': 1.7484472049689441, 'no_speech_prob': 0.22471240162849426}, {'id': 12, 'seek': 2756, 'start': 39.4, 'end': 43.72, 'text': ' Todo el tiempo, el cariño de la gente.', 'tokens': [26466, 806, 11772, 11, 806, 1032, 72, 7716, 368, 635, 3788, 13], 'temperature': 0.0, 'avg_logprob': -0.6007120768229167, 'compression_ratio': 1.7484472049689441, 'no_speech_prob': 0.22471240162849426}, {'id': 13, 'seek': 2756, 'start': 43.8, 'end': 46.599999999999994, 'text': ' Yo, jala, se no de, no va a pasar gentino, aprendí un poco eso.', 'tokens': [7616, 11, 361, 5159, 11, 369, 572, 368, 11, 572, 2773, 257, 25344, 16108, 2982, 11, 21003, 870, 517, 10639, 7287, 13], 'temperature': 0.0, 'avg_logprob': -0.6007120768229167, 'compression_ratio': 1.7484472049689441, 'no_speech_prob': 0.22471240162849426}, {'id': 14, 'seek': 2756, 'start': 46.68, 'end': 48.16, 'text': ' Ya no solo es el resultado,', 'tokens': [6080, 572, 6944, 785, 806, 28047, 11], 'temperature': 0.0, 'avg_logprob': -0.6007120768229167, 'compression_ratio': 1.7484472049689441, 'no_speech_prob': 0.22471240162849426}, {'id': 15, 'seek': 2756, 'start': 48.239999999999995, 'end': 50.64, 'text': ' sino todo el camino recorrido, antes por ahí,', 'tokens': [18108, 5149, 806, 34124, 850, 24362, 2925, 11, 11014, 1515, 12571, 11], 'temperature': 0.0, 'avg_logprob': -0.6007120768229167, 'compression_ratio': 1.7484472049689441, 'no_speech_prob': 0.22471240162849426}, {'id': 16, 'seek': 2756, 'start': 50.72, 'end': 52.8, 'text': ' y que todo lo lo va mucho por ganar el perder,', 'tokens': [288, 631, 5149, 450, 450, 2773, 9824, 1515, 7574, 289, 806, 26971, 11], 'temperature': 0.0, 'avg_logprob': -0.6007120768229167, 'compression_ratio': 1.7484472049689441, 'no_speech_prob': 0.22471240162849426}, {'id': 17, 'seek': 2756, 'start': 52.879999999999995, 'end': 54.84, 'text': ' y creo que la gente valora mucho y su mamás.', 'tokens': [288, 14336, 631, 635, 3788, 15367, 64, 9824, 288, 459, 13524, 2490, 13], 'temperature': 0.0, 'avg_logprob': -0.6007120768229167, 'compression_ratio': 1.7484472049689441, 'no_speech_prob': 0.22471240162849426}, {'id': 18, 'seek': 2756, 'start': 54.92, 'end': 57.0, 'text': ' Otra cosa, pero que no tenga duda,', 'tokens': [12936, 424, 10163, 11, 4768, 631, 572, 36031, 43881, 11], 'temperature': 0.0, 'avg_logprob': -0.6007120768229167, 'compression_ratio': 1.7484472049689441, 'no_speech_prob': 0.22471240162849426}, {'id': 19, 'seek': 5700, 'start': 57.0, 'end': 59.68, 'text': ' es que vamos a ir a jugar como lo venimos siendo.', 'tokens': [50364, 785, 631, 5295, 257, 3418, 257, 37692, 2617, 450, 6138, 8372, 31423, 13, 50498], 'temperature': 0.0, 'avg_logprob': -0.39223945140838623, 'compression_ratio': 0.9245283018867925, 'no_speech_prob': 0.001030202955007553}], 'language': 'es'}\n"
          ]
        }
      ]
    },
    {
      "cell_type": "code",
      "source": [
        "print(result[\"text\"])"
      ],
      "metadata": {
        "colab": {
          "base_uri": "https://localhost:8080/"
        },
        "id": "MHMF4psoWu7E",
        "outputId": "4e3266c0-d853-43b5-aea7-ffc6c7867bfd"
      },
      "execution_count": 5,
      "outputs": [
        {
          "output_type": "stream",
          "name": "stdout",
          "text": [
            " solamente que eres earse bien bien, una fina del mundo y si bien toque lesAcupa, nos qué más a 여자 es resultado a luego no te vas a occar nadie, a través EXNT y eso no te vas a occar nady, gentlemen donuts, affects tan grande que la gente evira tanta gente, que ahora la jala de los yves en el corazón, porque creo que es más importante que una copa del mundo hizo ya los tienes, así que gracias, capitán. Bueno, muchas gracias, verdad, que los sentí, los sentí durante todo. Todo el tiempo, el cariño de la gente. Yo, jala, se no de, no va a pasar gentino, aprendí un poco eso. Ya no solo es el resultado, sino todo el camino recorrido, antes por ahí, y que todo lo lo va mucho por ganar el perder, y creo que la gente valora mucho y su mamás. Otra cosa, pero que no tenga duda, es que vamos a ir a jugar como lo venimos siendo.\n"
          ]
        }
      ]
    },
    {
      "cell_type": "code",
      "source": [
        "df = pd.DataFrame(result[\"segments\"])\n",
        "df.head()"
      ],
      "metadata": {
        "colab": {
          "base_uri": "https://localhost:8080/",
          "height": 337
        },
        "id": "4UARV3gmXSJr",
        "outputId": "22569288-a923-4d36-f5ff-8ae42e08d237"
      },
      "execution_count": 6,
      "outputs": [
        {
          "output_type": "execute_result",
          "data": {
            "text/plain": [
              "   id  seek  start    end                                               text  \\\n",
              "0   0     0   0.00   2.80   solamente que eres earse bien bien, una fina ...   \n",
              "1   1     0   2.80   5.60                          y si bien toque lesAcupa,   \n",
              "2   2     0   5.60   7.68                      nos qué más a 여자 es resultado   \n",
              "3   3     0   7.68  23.18     a luego no te vas a occar nadie, a través EXNT   \n",
              "4   4     0  23.18  25.72            y eso no te vas a occar nady, gentlemen   \n",
              "\n",
              "                                              tokens  temperature  \\\n",
              "0  [27814, 631, 30065, 1273, 405, 3610, 3610, 11,...          1.0   \n",
              "1  [288, 1511, 3610, 281, 1077, 1512, 43705, 1010...          1.0   \n",
              "2         [3269, 8057, 3573, 257, 41768, 785, 28047]          1.0   \n",
              "3  [257, 17222, 572, 535, 11481, 257, 2678, 289, ...          1.0   \n",
              "4  [288, 7287, 572, 535, 11481, 257, 2678, 289, 2...          1.0   \n",
              "\n",
              "   avg_logprob  compression_ratio  no_speech_prob  \n",
              "0       -3.047           1.358824        0.093672  \n",
              "1       -3.047           1.358824        0.093672  \n",
              "2       -3.047           1.358824        0.093672  \n",
              "3       -3.047           1.358824        0.093672  \n",
              "4       -3.047           1.358824        0.093672  "
            ],
            "text/html": [
              "\n",
              "  <div id=\"df-f4f64dff-6472-4510-82ca-0011ff10ecb6\">\n",
              "    <div class=\"colab-df-container\">\n",
              "      <div>\n",
              "<style scoped>\n",
              "    .dataframe tbody tr th:only-of-type {\n",
              "        vertical-align: middle;\n",
              "    }\n",
              "\n",
              "    .dataframe tbody tr th {\n",
              "        vertical-align: top;\n",
              "    }\n",
              "\n",
              "    .dataframe thead th {\n",
              "        text-align: right;\n",
              "    }\n",
              "</style>\n",
              "<table border=\"1\" class=\"dataframe\">\n",
              "  <thead>\n",
              "    <tr style=\"text-align: right;\">\n",
              "      <th></th>\n",
              "      <th>id</th>\n",
              "      <th>seek</th>\n",
              "      <th>start</th>\n",
              "      <th>end</th>\n",
              "      <th>text</th>\n",
              "      <th>tokens</th>\n",
              "      <th>temperature</th>\n",
              "      <th>avg_logprob</th>\n",
              "      <th>compression_ratio</th>\n",
              "      <th>no_speech_prob</th>\n",
              "    </tr>\n",
              "  </thead>\n",
              "  <tbody>\n",
              "    <tr>\n",
              "      <th>0</th>\n",
              "      <td>0</td>\n",
              "      <td>0</td>\n",
              "      <td>0.00</td>\n",
              "      <td>2.80</td>\n",
              "      <td>solamente que eres earse bien bien, una fina ...</td>\n",
              "      <td>[27814, 631, 30065, 1273, 405, 3610, 3610, 11,...</td>\n",
              "      <td>1.0</td>\n",
              "      <td>-3.047</td>\n",
              "      <td>1.358824</td>\n",
              "      <td>0.093672</td>\n",
              "    </tr>\n",
              "    <tr>\n",
              "      <th>1</th>\n",
              "      <td>1</td>\n",
              "      <td>0</td>\n",
              "      <td>2.80</td>\n",
              "      <td>5.60</td>\n",
              "      <td>y si bien toque lesAcupa,</td>\n",
              "      <td>[288, 1511, 3610, 281, 1077, 1512, 43705, 1010...</td>\n",
              "      <td>1.0</td>\n",
              "      <td>-3.047</td>\n",
              "      <td>1.358824</td>\n",
              "      <td>0.093672</td>\n",
              "    </tr>\n",
              "    <tr>\n",
              "      <th>2</th>\n",
              "      <td>2</td>\n",
              "      <td>0</td>\n",
              "      <td>5.60</td>\n",
              "      <td>7.68</td>\n",
              "      <td>nos qué más a 여자 es resultado</td>\n",
              "      <td>[3269, 8057, 3573, 257, 41768, 785, 28047]</td>\n",
              "      <td>1.0</td>\n",
              "      <td>-3.047</td>\n",
              "      <td>1.358824</td>\n",
              "      <td>0.093672</td>\n",
              "    </tr>\n",
              "    <tr>\n",
              "      <th>3</th>\n",
              "      <td>3</td>\n",
              "      <td>0</td>\n",
              "      <td>7.68</td>\n",
              "      <td>23.18</td>\n",
              "      <td>a luego no te vas a occar nadie, a través EXNT</td>\n",
              "      <td>[257, 17222, 572, 535, 11481, 257, 2678, 289, ...</td>\n",
              "      <td>1.0</td>\n",
              "      <td>-3.047</td>\n",
              "      <td>1.358824</td>\n",
              "      <td>0.093672</td>\n",
              "    </tr>\n",
              "    <tr>\n",
              "      <th>4</th>\n",
              "      <td>4</td>\n",
              "      <td>0</td>\n",
              "      <td>23.18</td>\n",
              "      <td>25.72</td>\n",
              "      <td>y eso no te vas a occar nady, gentlemen</td>\n",
              "      <td>[288, 7287, 572, 535, 11481, 257, 2678, 289, 2...</td>\n",
              "      <td>1.0</td>\n",
              "      <td>-3.047</td>\n",
              "      <td>1.358824</td>\n",
              "      <td>0.093672</td>\n",
              "    </tr>\n",
              "  </tbody>\n",
              "</table>\n",
              "</div>\n",
              "      <button class=\"colab-df-convert\" onclick=\"convertToInteractive('df-f4f64dff-6472-4510-82ca-0011ff10ecb6')\"\n",
              "              title=\"Convert this dataframe to an interactive table.\"\n",
              "              style=\"display:none;\">\n",
              "        \n",
              "  <svg xmlns=\"http://www.w3.org/2000/svg\" height=\"24px\"viewBox=\"0 0 24 24\"\n",
              "       width=\"24px\">\n",
              "    <path d=\"M0 0h24v24H0V0z\" fill=\"none\"/>\n",
              "    <path d=\"M18.56 5.44l.94 2.06.94-2.06 2.06-.94-2.06-.94-.94-2.06-.94 2.06-2.06.94zm-11 1L8.5 8.5l.94-2.06 2.06-.94-2.06-.94L8.5 2.5l-.94 2.06-2.06.94zm10 10l.94 2.06.94-2.06 2.06-.94-2.06-.94-.94-2.06-.94 2.06-2.06.94z\"/><path d=\"M17.41 7.96l-1.37-1.37c-.4-.4-.92-.59-1.43-.59-.52 0-1.04.2-1.43.59L10.3 9.45l-7.72 7.72c-.78.78-.78 2.05 0 2.83L4 21.41c.39.39.9.59 1.41.59.51 0 1.02-.2 1.41-.59l7.78-7.78 2.81-2.81c.8-.78.8-2.07 0-2.86zM5.41 20L4 18.59l7.72-7.72 1.47 1.35L5.41 20z\"/>\n",
              "  </svg>\n",
              "      </button>\n",
              "      \n",
              "  <style>\n",
              "    .colab-df-container {\n",
              "      display:flex;\n",
              "      flex-wrap:wrap;\n",
              "      gap: 12px;\n",
              "    }\n",
              "\n",
              "    .colab-df-convert {\n",
              "      background-color: #E8F0FE;\n",
              "      border: none;\n",
              "      border-radius: 50%;\n",
              "      cursor: pointer;\n",
              "      display: none;\n",
              "      fill: #1967D2;\n",
              "      height: 32px;\n",
              "      padding: 0 0 0 0;\n",
              "      width: 32px;\n",
              "    }\n",
              "\n",
              "    .colab-df-convert:hover {\n",
              "      background-color: #E2EBFA;\n",
              "      box-shadow: 0px 1px 2px rgba(60, 64, 67, 0.3), 0px 1px 3px 1px rgba(60, 64, 67, 0.15);\n",
              "      fill: #174EA6;\n",
              "    }\n",
              "\n",
              "    [theme=dark] .colab-df-convert {\n",
              "      background-color: #3B4455;\n",
              "      fill: #D2E3FC;\n",
              "    }\n",
              "\n",
              "    [theme=dark] .colab-df-convert:hover {\n",
              "      background-color: #434B5C;\n",
              "      box-shadow: 0px 1px 3px 1px rgba(0, 0, 0, 0.15);\n",
              "      filter: drop-shadow(0px 1px 2px rgba(0, 0, 0, 0.3));\n",
              "      fill: #FFFFFF;\n",
              "    }\n",
              "  </style>\n",
              "\n",
              "      <script>\n",
              "        const buttonEl =\n",
              "          document.querySelector('#df-f4f64dff-6472-4510-82ca-0011ff10ecb6 button.colab-df-convert');\n",
              "        buttonEl.style.display =\n",
              "          google.colab.kernel.accessAllowed ? 'block' : 'none';\n",
              "\n",
              "        async function convertToInteractive(key) {\n",
              "          const element = document.querySelector('#df-f4f64dff-6472-4510-82ca-0011ff10ecb6');\n",
              "          const dataTable =\n",
              "            await google.colab.kernel.invokeFunction('convertToInteractive',\n",
              "                                                     [key], {});\n",
              "          if (!dataTable) return;\n",
              "\n",
              "          const docLinkHtml = 'Like what you see? Visit the ' +\n",
              "            '<a target=\"_blank\" href=https://colab.research.google.com/notebooks/data_table.ipynb>data table notebook</a>'\n",
              "            + ' to learn more about interactive tables.';\n",
              "          element.innerHTML = '';\n",
              "          dataTable['output_type'] = 'display_data';\n",
              "          await google.colab.output.renderOutput(dataTable, element);\n",
              "          const docLink = document.createElement('div');\n",
              "          docLink.innerHTML = docLinkHtml;\n",
              "          element.appendChild(docLink);\n",
              "        }\n",
              "      </script>\n",
              "    </div>\n",
              "  </div>\n",
              "  "
            ]
          },
          "metadata": {},
          "execution_count": 6
        }
      ]
    },
    {
      "cell_type": "code",
      "source": [
        "model = whisper.load_model(\"medium\")\n",
        "result = model.transcribe(route)\n",
        "print(result[\"text\"])"
      ],
      "metadata": {
        "colab": {
          "base_uri": "https://localhost:8080/"
        },
        "id": "l6Tz9rr6a52V",
        "outputId": "4400964e-7971-40b4-8529-887e009e7163"
      },
      "execution_count": 7,
      "outputs": [
        {
          "output_type": "stream",
          "name": "stderr",
          "text": [
            "/usr/local/lib/python3.8/dist-packages/whisper/transcribe.py:78: UserWarning: FP16 is not supported on CPU; using FP32 instead\n",
            "  warnings.warn(\"FP16 is not supported on CPU; using FP32 instead\")\n"
          ]
        },
        {
          "output_type": "stream",
          "name": "stdout",
          "text": [
            " No solamente te quiero decir, se viene una final del mundo y si bien todos queremos ganar la copa, quiero decirte que más allá del resultado, hay algo que no te va a sacar nadie, atravesaste a cada uno de los argentinos, de verdad te lo digo, no hay nene que no tenga tu remera, que no sea la original, la trucha o la inventada o la imaginaria, de verdad, marcaste la vida de todos y es eso que para mí es más grande que cualquier copa del mundo y eso no te lo va a sacar nadie, es un agradecimiento por un momento de felicidad tan grande que le hiciste vivir a tanta gente, que de verdad ojalá te lo lleves en el corazón porque creo que es más importante que una copa del mundo y eso ya lo tenés, así que gracias capitán. Bueno, muchísimas gracias, la verdad que lo sentí durante todo este tiempo, el cariño de la gente y ojalá se nos dé, pues argentinos aprendimos un poco de eso, ya no solo es el resultado sino todo el camino recorrido, antes por ahí sí que valoraba mucho por el ganar o el perder y creo que la gente valora muchísimo más otra cosa pero que no tenga duda de que vamos a ir a jugar como lo venimos haciendo.\n"
          ]
        }
      ]
    },
    {
      "cell_type": "code",
      "source": [
        "# load audio and pad/trim it to fit 30 seconds\n",
        "audio = whisper.load_audio(route)\n",
        "audio = whisper.pad_or_trim(audio)\n",
        "\n",
        "# make log-Mel spectrogram and move to the same device as the model\n",
        "mel = whisper.log_mel_spectrogram(audio).to(model.device)\n",
        "\n",
        "# detect the spoken language\n",
        "_, probs = model.detect_language(mel)\n",
        "print(f\"Detected language: {max(probs, key=probs.get)}\")"
      ],
      "metadata": {
        "colab": {
          "base_uri": "https://localhost:8080/"
        },
        "id": "wRSZrUrhfAae",
        "outputId": "e4e31076-31dd-4307-c8a2-a232f5df7b2a"
      },
      "execution_count": 16,
      "outputs": [
        {
          "output_type": "stream",
          "name": "stdout",
          "text": [
            "Detected language: es\n"
          ]
        }
      ]
    }
  ]
}